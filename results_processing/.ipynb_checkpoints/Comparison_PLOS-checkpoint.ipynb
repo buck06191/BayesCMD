{
 "cells": [
  {
   "cell_type": "code",
   "execution_count": 1,
   "metadata": {},
   "outputs": [
    {
     "name": "stdout",
     "output_type": "stream",
     "text": [
      "STARTING AT: /home/buck06191/repos/GitHub/BayesCMD/bayescmd\n",
      " Looking for: BayesCMD\n",
      "STARTING AT: /home/buck06191/repos/GitHub/BayesCMD/bayescmd\n",
      " Looking for: BayesCMD\n",
      "STARTING AT: /home/buck06191/repos/GitHub/BayesCMD/bayescmd\n",
      " Looking for: BayesCMD\n",
      "STARTING AT: /home/buck06191/repos/GitHub/BayesCMD/bayescmd\n",
      " Looking for: BayesCMD\n"
     ]
    }
   ],
   "source": [
    "\"\"\"Process comparison of healthy and impaired for PLOS.\"\"\"\n",
    "import os\n",
    "import argparse\n",
    "import sys\n",
    "sys.path.append('..')\n",
    "from bayescmd.results_handling import comparison_kde_plot\n",
    "from bayescmd.results_handling import data_import\n",
    "from bayescmd.abc import import_actual_data\n",
    "from bayescmd.abc import priors_creator\n",
    "from bayescmd.util import findBaseDir\n",
    "import json\n",
    "from distutils import dir_util\n",
    "\n",
    "BASEDIR = os.path.abspath(findBaseDir('BayesCMD'))"
   ]
  },
  {
   "cell_type": "code",
   "execution_count": null,
   "metadata": {},
   "outputs": [],
   "source": [
    "import pandas as pd\n",
    "import numpy as np\n",
    "import seaborn as sns\n",
    "import matplotlib.pyplot as plt\n"
   ]
  },
  {
   "cell_type": "code",
   "execution_count": null,
   "metadata": {},
   "outputs": [
    {
     "name": "stdout",
     "output_type": "stream",
     "text": [
      "Number of lines:\t999000\n",
      "Number of NaN values:\t0\n"
     ]
    }
   ],
   "source": [
    "healthy_Dir = \"/home/buck06191/Dropbox/phd/PLOS_paper/data/parameters/healthy/fitting_kaut\"\n",
    "impaired_Dir = \"/home/buck06191/Dropbox/phd/PLOS_paper/data/parameters/impaired/fitting_kaut\"\n",
    "healthy_pfile = os.path.abspath(os.path.join(healthy_Dir, 'all_parameters.csv'))\n",
    "impaired_pfile = os.path.abspath(os.path.join(impaired_Dir, 'all_parameters.csv'))\n",
    "\n",
    "config_file=\"../examples/configuration_files/varying_parameter_wide_config.json\"\n",
    "with open(config_file, 'r') as conf_f:\n",
    "    conf = json.load(conf_f)\n",
    "params = conf['priors']\n",
    "\n",
    "input_path = os.path.join(BASEDIR,\n",
    "                          'PLOS_paper',\n",
    "                          'data',\n",
    "                          'simulated_smooth_combined_ABP.csv')\n",
    "\n",
    "d0 = import_actual_data(input_path)\n",
    "\n",
    "targets = conf['targets']\n",
    "model_name = conf['model_name']\n",
    "inputs = conf['inputs']\n",
    "\n",
    "config = {\n",
    "    \"model_name\": model_name,\n",
    "    \"targets\": targets,\n",
    "    \"inputs\": inputs,\n",
    "    \"parameters\": params,\n",
    "    \"input_path\": input_path,\n",
    "    \"zero_flag\": {k: False for k in targets}\n",
    "}\n",
    "\n",
    "results_healthy = data_import(healthy_pfile)\n",
    "results_impaired = data_import(impaired_pfile)"
   ]
  },
  {
   "cell_type": "code",
   "execution_count": null,
   "metadata": {},
   "outputs": [],
   "source": [
    "results_healthy.columns"
   ]
  },
  {
   "cell_type": "code",
   "execution_count": null,
   "metadata": {},
   "outputs": [],
   "source": [
    "results_impaired.columns"
   ]
  },
  {
   "cell_type": "code",
   "execution_count": null,
   "metadata": {},
   "outputs": [],
   "source": [
    "results = pd.concat([results_healthy, results_impaired])"
   ]
  },
  {
   "cell_type": "code",
   "execution_count": null,
   "metadata": {},
   "outputs": [],
   "source": [
    "ar_state = ['Healthy'] * results_healthy.shape[0]\n",
    "ar_state.extend(['Impaired'] * results_healthy.shape[0])\n",
    "results['Autoregulatory State'] = ar_state\n",
    "results['Autoregulatory State'] = results['Autoregulatory State'].astype('category')"
   ]
  },
  {
   "cell_type": "code",
   "execution_count": null,
   "metadata": {},
   "outputs": [],
   "source": [
    "results.columns"
   ]
  },
  {
   "cell_type": "code",
   "execution_count": null,
   "metadata": {},
   "outputs": [],
   "source": [
    "d = \"NRMSE\"\n",
    "figPath = \"/home/buck06191/Dropbox/phd/Bayesian_fitting/{}/{}/{}/\"\\\n",
    "    \"Figures/{}\".format(model_name, 'PLOS_paper', 'Comparison', d)\n",
    "\n",
    "dir_util.mkpath(figPath)\n",
    "\n",
    "lim = 1000\n",
    "limit = lim\n",
    "groups = results['Autoregulatory State'].unique()\n",
    "acceptance_param=1\n",
    "group_names= groups"
   ]
  },
  {
   "cell_type": "code",
   "execution_count": null,
   "metadata": {},
   "outputs": [],
   "source": [
    "df_list = [results_healthy, results_impaired]\n",
    "p_names = list(params.keys())\n",
    "\n",
    "kde_dfs = []\n",
    "for ii, df in enumerate(df_list):\n",
    "    sorted_df = df.sort_values(by=d)\n",
    "\n",
    "    if limit:\n",
    "        accepted_limit = limit\n",
    "    elif frac:\n",
    "        accepted_limit = frac_calculator(sorted_df, frac)\n",
    "    else:\n",
    "        raise ValueError('No limit or fraction given.')\n",
    "\n",
    "    sorted_df['Accepted'] = np.zeros(len(sorted_df))\n",
    "    sorted_df['Accepted'].iloc[:accepted_limit] = 1\n",
    "    sorted_df.loc[:, 'Accepted'][sorted_df[d] == 100000] = 2\n",
    "\n",
    "    kde_dfs.append(sorted_df.loc[(sorted_df['Accepted'] == acceptance_param), :])\n",
    "    kde_dfs[ii]['Group'] = [ii] * accepted_limit\n",
    "\n",
    "kde_df = pd.concat(kde_dfs)\n",
    "\n",
    "if group_names:\n",
    "    kde_df['Group']= kde_df['Group'].map(lambda x: \"{}\".format(group_names[x]))\n",
    "groups = kde_df['Group'].unique()\n",
    "colors = sns.color_palette(\"hls\", len(groups))\n",
    "color_pal = dict(zip(groups, colors))\n"
   ]
  },
  {
   "cell_type": "code",
   "execution_count": null,
   "metadata": {},
   "outputs": [],
   "source": [
    "%matplotlib inline\n",
    "# g = sns.PairGrid(\n",
    "#             kde_df,\n",
    "#             vars=p_names,\n",
    "#             hue=\"Group\",\n",
    "#             hue_kws={\"cmap\":['Blues', 'Reds']},\n",
    "#             palette=color_pal,\n",
    "#             diag_sharey=False)\n",
    "# g.map_diag(sns.distplot)\n",
    "# g.map_lower(sns.kdeplot)\n"
   ]
  },
  {
   "cell_type": "code",
   "execution_count": null,
   "metadata": {},
   "outputs": [],
   "source": [
    "comparison_kde_plot(df_list, params, group_names=list(groups), limit=lim, n_ticks=4, d=d,\n",
    "                 median_file=os.path.join(figPath, \"medians.txt\"))"
   ]
  },
  {
   "cell_type": "code",
   "execution_count": null,
   "metadata": {},
   "outputs": [],
   "source": []
  }
 ],
 "metadata": {
  "kernelspec": {
   "display_name": "python3_notebook",
   "language": "python",
   "name": "python3_notebook"
  },
  "language_info": {
   "codemirror_mode": {
    "name": "ipython",
    "version": 3
   },
   "file_extension": ".py",
   "mimetype": "text/x-python",
   "name": "python",
   "nbconvert_exporter": "python",
   "pygments_lexer": "ipython3",
   "version": "3.6.2"
  }
 },
 "nbformat": 4,
 "nbformat_minor": 2
}
