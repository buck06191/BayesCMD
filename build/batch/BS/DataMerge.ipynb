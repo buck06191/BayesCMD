{
 "cells": [
  {
   "cell_type": "code",
   "execution_count": 1,
   "metadata": {
    "collapsed": false
   },
   "outputs": [
    {
     "name": "stdout",
     "output_type": "stream",
     "text": [
      "['190917T1314', '190917T1300', '1316T190917', '1246T190917', '1355T190917', '1345T190917', '1352T190917', '1329T190917', '1348T190917', '1318T190917', '1252T190917', '1308T190917', '1226T190917', '1331T190917', '1344T190917', '1346T190917', '1326T190917', '190917T1301', '1347T190917', '1315T190917', '1342T190917', '1327T190917', '1320T190917', '190917T1117', '1224T190917', '1341T190917', '1339T190917', '1354T190917', '1330T190917', '1356T190917', '1247T190917', '1250T190917', '1353T190917']\n"
     ]
    }
   ],
   "source": [
    "import pandas as pd\n",
    "import os\n",
    "dirs = [f for f in os.listdir() if '190917' in f]\n",
    "print(dirs)\n",
    "%matplotlib inline"
   ]
  },
  {
   "cell_type": "code",
   "execution_count": 2,
   "metadata": {
    "collapsed": true
   },
   "outputs": [],
   "source": [
    "df1 = pd.read_csv(os.path.join('1352T190917','parameters.csv'))\n",
    "df1['idx'] = df1.index.values"
   ]
  },
  {
   "cell_type": "code",
   "execution_count": 3,
   "metadata": {
    "collapsed": false
   },
   "outputs": [],
   "source": [
    "df2 = pd.read_csv(os.path.join('1432T060917','parameters.csv'))\n",
    "df2['idx'] = df2.index.values +len(df2)"
   ]
  },
  {
   "cell_type": "code",
   "execution_count": 4,
   "metadata": {
    "collapsed": false
   },
   "outputs": [],
   "source": [
    "df3 = pd.read_csv(os.path.join('1431T060917','parameters.csv'))\n",
    "df3['idx'] = df3.index.values +len(df2)+len(df3)"
   ]
  },
  {
   "cell_type": "code",
   "execution_count": 2,
   "metadata": {
    "collapsed": false
   },
   "outputs": [
    {
     "name": "stdout",
     "output_type": "stream",
     "text": [
      "99999\n",
      "99999\n",
      "99999\n",
      "99999\n",
      "99999\n"
     ]
    }
   ],
   "source": [
    "dirs = ['1352T190917','1353T190917','1353T190917','1355T190917','1356T190917']\n",
    "dfs = [pd.read_csv(os.path.join(d,'parameters.csv')) for d in dirs]\n",
    "\n",
    "for ii in range(len(dfs)):\n",
    "    print(len(dfs[ii]))\n",
    "    dfs[ii]['idx'] = dfs[ii].index.values+(len(dfs[ii])*ii)"
   ]
  },
  {
   "cell_type": "code",
   "execution_count": 3,
   "metadata": {
    "collapsed": true
   },
   "outputs": [],
   "source": [
    "df = pd.concat(dfs)"
   ]
  },
  {
   "cell_type": "code",
   "execution_count": 4,
   "metadata": {
    "collapsed": false
   },
   "outputs": [],
   "source": [
    "df.index = range(len(df))"
   ]
  },
  {
   "cell_type": "code",
   "execution_count": 5,
   "metadata": {
    "collapsed": false
   },
   "outputs": [
    {
     "data": {
      "text/plain": [
       "<matplotlib.axes._subplots.AxesSubplot at 0x7fea747462e8>"
      ]
     },
     "execution_count": 5,
     "metadata": {},
     "output_type": "execute_result"
    },
    {
     "data": {
      "image/png": "[encoded data removed]",
      "text/plain": [
       "<matplotlib.figure.Figure at 0x7fea493df1d0>"
      ]
     },
     "metadata": {},
     "output_type": "display_data"
    }
   ],
   "source": [
    "df['idx'].plot()"
   ]
  },
  {
   "cell_type": "code",
   "execution_count": 6,
   "metadata": {
    "collapsed": true
   },
   "outputs": [],
   "source": [
    "df.to_csv('concatenated_results_190917.csv', index=False)"
   ]
  },
  {
   "cell_type": "code",
   "execution_count": 9,
   "metadata": {
    "collapsed": false
   },
   "outputs": [
    {
     "name": "stdout",
     "output_type": "stream",
     "text": [
      "['1315T040917', 'concatenated_results.csv', '1257T040917', '1432T060917', '1431T060917', '1605T100817', '1313T030817', 'plot_bayesian_posterior.ipynb', 'concatenated_results_test.csv', '1608T100817', '.ipynb_checkpoints', 'DataMerge.ipynb', '1614T100817', '1428T060917', 'plot_bayesian_tests_posterior.ipynb']\n"
     ]
    }
   ],
   "source": [
    "print(os.listdir())"
   ]
  },
  {
   "cell_type": "code",
   "execution_count": null,
   "metadata": {
    "collapsed": true
   },
   "outputs": [],
   "source": []
  }
 ],
 "metadata": {
  "anaconda-cloud": {},
  "kernelspec": {
   "display_name": "Python [conda env:data]",
   "language": "python",
   "name": "conda-env-data-py"
  },
  "language_info": {
   "codemirror_mode": {
    "name": "ipython",
    "version": 3
   },
   "file_extension": ".py",
   "mimetype": "text/x-python",
   "name": "python",
   "nbconvert_exporter": "python",
   "pygments_lexer": "ipython3",
   "version": "3.5.2"
  }
 },
 "nbformat": 4,
 "nbformat_minor": 1
}
